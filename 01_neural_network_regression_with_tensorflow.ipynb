{
  "nbformat": 4,
  "nbformat_minor": 0,
  "metadata": {
    "colab": {
      "provenance": [],
      "authorship_tag": "ABX9TyNtdC3mNsVyIcJKJ8FF2+E5",
      "include_colab_link": true
    },
    "kernelspec": {
      "name": "python3",
      "display_name": "Python 3"
    },
    "language_info": {
      "name": "python"
    }
  },
  "cells": [
    {
      "cell_type": "markdown",
      "metadata": {
        "id": "view-in-github",
        "colab_type": "text"
      },
      "source": [
        "<a href=\"https://colab.research.google.com/github/bascr/TensorFlow-Developer-Certificate/blob/main/01_neural_network_regression_with_tensorflow.ipynb\" target=\"_parent\"><img src=\"https://colab.research.google.com/assets/colab-badge.svg\" alt=\"Open In Colab\"/></a>"
      ]
    },
    {
      "cell_type": "markdown",
      "source": [
        "# Introduction to Regression with Neural Networks in TensorFlow\n",
        "\n",
        "There are many definitions for a regression problem but in our case, we're going to simplify it: predicting a numerical variable based on some other combination od variables, even shorter, predicting a number."
      ],
      "metadata": {
        "id": "dTyju_kg0PA0"
      }
    },
    {
      "cell_type": "code",
      "source": [
        "# Import TesorFlow\n",
        "import tensorflow as tf\n",
        "print(tf.__version__)"
      ],
      "metadata": {
        "colab": {
          "base_uri": "https://localhost:8080/"
        },
        "id": "AwzBeB5k-WSa",
        "outputId": "966ee2d3-e777-4063-8198-221f57133034"
      },
      "execution_count": 1,
      "outputs": [
        {
          "output_type": "stream",
          "name": "stdout",
          "text": [
            "2.12.0\n"
          ]
        }
      ]
    },
    {
      "cell_type": "markdown",
      "source": [
        "## Creating data to a view and fit"
      ],
      "metadata": {
        "id": "jEMPbgU8-dC7"
      }
    },
    {
      "cell_type": "code",
      "source": [
        "import numpy as np\n",
        "import matplotlib.pyplot as plt\n",
        "\n",
        "# Create features\n",
        "X = np.array([-7., -4., -1., 2., 5., 8., 11., 14.])\n",
        "\n",
        "# Create labels\n",
        "y = np.array([3., 6., 9., 12., 15., 18., 21., 24])\n",
        "\n",
        "# Visualize it\n",
        "plt.scatter(X, y)"
      ],
      "metadata": {
        "colab": {
          "base_uri": "https://localhost:8080/",
          "height": 453
        },
        "id": "_VxOVmCv-xqL",
        "outputId": "f792adf3-41b2-4e81-b1ac-b5fa253a4d7a"
      },
      "execution_count": 3,
      "outputs": [
        {
          "output_type": "execute_result",
          "data": {
            "text/plain": [
              "<matplotlib.collections.PathCollection at 0x79b45896e9b0>"
            ]
          },
          "metadata": {},
          "execution_count": 3
        },
        {
          "output_type": "display_data",
          "data": {
            "text/plain": [
              "<Figure size 640x480 with 1 Axes>"
            ],
            "image/png": "[encoded data removed]"
          },
          "metadata": {}
        }
      ]
    },
    {
      "cell_type": "code",
      "source": [
        "y == X + 10"
      ],
      "metadata": {
        "colab": {
          "base_uri": "https://localhost:8080/"
        },
        "id": "M3srJ6lg_OTM",
        "outputId": "48fe234e-3e4d-4fe7-ae54-ac3ed8f0e258"
      },
      "execution_count": 4,
      "outputs": [
        {
          "output_type": "execute_result",
          "data": {
            "text/plain": [
              "array([ True,  True,  True,  True,  True,  True,  True,  True])"
            ]
          },
          "metadata": {},
          "execution_count": 4
        }
      ]
    },
    {
      "cell_type": "markdown",
      "source": [
        "## Input and output shapes"
      ],
      "metadata": {
        "id": "3n-Rj1Ze_eyS"
      }
    },
    {
      "cell_type": "code",
      "source": [
        "# Create a demo tensor for our housing price prediction problem\n",
        "house_info = tf.constant([\"bedroom\", \"bathroom\", \"garage\"])\n",
        "house_price = tf.constant([939700])\n",
        "house_info, house_price"
      ],
      "metadata": {
        "colab": {
          "base_uri": "https://localhost:8080/"
        },
        "id": "4n1dJOXs_nB-",
        "outputId": "ae48f35f-972c-4327-952e-1e5dc7489a6b"
      },
      "execution_count": 6,
      "outputs": [
        {
          "output_type": "execute_result",
          "data": {
            "text/plain": [
              "(<tf.Tensor: shape=(3,), dtype=string, numpy=array([b'bedroom', b'bathroom', b'garage'], dtype=object)>,\n",
              " <tf.Tensor: shape=(1,), dtype=int32, numpy=array([939700], dtype=int32)>)"
            ]
          },
          "metadata": {},
          "execution_count": 6
        }
      ]
    },
    {
      "cell_type": "code",
      "source": [
        "input_shape = X.shape\n",
        "output_shape = y.shape\n",
        "\n",
        "input_shape, output_shape"
      ],
      "metadata": {
        "colab": {
          "base_uri": "https://localhost:8080/"
        },
        "id": "MhknRaRBAC3e",
        "outputId": "75e7ad0d-ea8f-41a9-b350-fc413af9113c"
      },
      "execution_count": 7,
      "outputs": [
        {
          "output_type": "execute_result",
          "data": {
            "text/plain": [
              "((8,), (8,))"
            ]
          },
          "metadata": {},
          "execution_count": 7
        }
      ]
    },
    {
      "cell_type": "code",
      "source": [
        "# Turn our Numpy arrays into tensors\n",
        "X = tf.constant(X)\n",
        "y = tf.constant(y)\n",
        "\n",
        "X, y"
      ],
      "metadata": {
        "colab": {
          "base_uri": "https://localhost:8080/"
        },
        "id": "gk16m2VBAQ6c",
        "outputId": "2a483901-9ddb-4615-df9e-32999f600c6f"
      },
      "execution_count": 8,
      "outputs": [
        {
          "output_type": "execute_result",
          "data": {
            "text/plain": [
              "(<tf.Tensor: shape=(8,), dtype=float64, numpy=array([-7., -4., -1.,  2.,  5.,  8., 11., 14.])>,\n",
              " <tf.Tensor: shape=(8,), dtype=float64, numpy=array([ 3.,  6.,  9., 12., 15., 18., 21., 24.])>)"
            ]
          },
          "metadata": {},
          "execution_count": 8
        }
      ]
    },
    {
      "cell_type": "code",
      "source": [
        "plt.scatter(X, y)"
      ],
      "metadata": {
        "colab": {
          "base_uri": "https://localhost:8080/",
          "height": 453
        },
        "id": "DSk89T-GB2QF",
        "outputId": "378eb76c-cc5e-4007-d729-9f323c52945a"
      },
      "execution_count": 9,
      "outputs": [
        {
          "output_type": "execute_result",
          "data": {
            "text/plain": [
              "<matplotlib.collections.PathCollection at 0x79b455f68ac0>"
            ]
          },
          "metadata": {},
          "execution_count": 9
        },
        {
          "output_type": "display_data",
          "data": {
            "text/plain": [
              "<Figure size 640x480 with 1 Axes>"
            ],
            "image/png": "[encoded data removed]"
          },
          "metadata": {}
        }
      ]
    },
    {
      "cell_type": "markdown",
      "source": [
        "## Steps in modelling with Tensorflow\n",
        "\n",
        "1. **Creating a model** - define the input and output layer, as well as the hidden layers of a deep lerning model.\n",
        "2. **Compiling a model** - define the loss function (in other words, the function which tells our model how wrong it is) and the optimizer (tells our model how to improve the patterns it's learning) and evaluation metrics (what we can use to interpret the performance of our model).\n",
        "3. **Fitting a model** - letting the model try to find patterns between X and y (features and labels)"
      ],
      "metadata": {
        "id": "933avZYsCFvq"
      }
    },
    {
      "cell_type": "code",
      "source": [
        "# Set random seed\n",
        "tf.random.set_seed(42)\n",
        "\n",
        "# 1. Create a model using the Sequential API\n",
        "model = tf.keras.Sequential(\n",
        "    layers=[tf.keras.layers.Dense(1)]\n",
        ")\n",
        "\n",
        "# 2. Compile the model\n",
        "model.compile(loss=tf.keras.losses.mae,  # mae is short for mean absolute error\n",
        "              optimizer=tf.keras.optimizers.SGD(), # sdg is short for stochastic gradient descent\n",
        "              metrics=[\"mae\"])\n",
        "\n",
        "# 3. Fit the model\n",
        "model.fit(tf.expand_dims(X, axis=-1), y, epochs=5)"
      ],
      "metadata": {
        "colab": {
          "base_uri": "https://localhost:8080/"
        },
        "id": "2y9QhOPrC1h1",
        "outputId": "07b8d959-7c5d-410c-dcc5-c24c25eb88c4"
      },
      "execution_count": 23,
      "outputs": [
        {
          "output_type": "stream",
          "name": "stdout",
          "text": [
            "Epoch 1/5\n",
            "1/1 [==============================] - 2s 2s/step - loss: 11.9555 - mae: 11.9555\n",
            "Epoch 2/5\n",
            "1/1 [==============================] - 0s 15ms/step - loss: 11.8230 - mae: 11.8230\n",
            "Epoch 3/5\n",
            "1/1 [==============================] - 0s 19ms/step - loss: 11.6905 - mae: 11.6905\n",
            "Epoch 4/5\n",
            "1/1 [==============================] - 0s 17ms/step - loss: 11.5580 - mae: 11.5580\n",
            "Epoch 5/5\n",
            "1/1 [==============================] - 0s 19ms/step - loss: 11.4255 - mae: 11.4255\n"
          ]
        },
        {
          "output_type": "execute_result",
          "data": {
            "text/plain": [
              "<keras.callbacks.History at 0x79b4501761d0>"
            ]
          },
          "metadata": {},
          "execution_count": 23
        }
      ]
    },
    {
      "cell_type": "code",
      "source": [
        "# Check out X and Y\n",
        "X, y"
      ],
      "metadata": {
        "colab": {
          "base_uri": "https://localhost:8080/"
        },
        "id": "jJbj_EAwFji0",
        "outputId": "f89e6a00-f7ba-4e61-da0b-31c5a8a0d3f8"
      },
      "execution_count": 24,
      "outputs": [
        {
          "output_type": "execute_result",
          "data": {
            "text/plain": [
              "(<tf.Tensor: shape=(8,), dtype=float64, numpy=array([-7., -4., -1.,  2.,  5.,  8., 11., 14.])>,\n",
              " <tf.Tensor: shape=(8,), dtype=float64, numpy=array([ 3.,  6.,  9., 12., 15., 18., 21., 24.])>)"
            ]
          },
          "metadata": {},
          "execution_count": 24
        }
      ]
    },
    {
      "cell_type": "code",
      "source": [
        "# Try yand make a prediction using our model\n",
        "y_pred = model.predict([17.])\n",
        "y_pred"
      ],
      "metadata": {
        "colab": {
          "base_uri": "https://localhost:8080/"
        },
        "id": "n3uhy03bIJw7",
        "outputId": "d9397f2c-d461-463c-97cd-29a599168506"
      },
      "execution_count": 26,
      "outputs": [
        {
          "output_type": "stream",
          "name": "stdout",
          "text": [
            "1/1 [==============================] - 0s 95ms/step\n"
          ]
        },
        {
          "output_type": "execute_result",
          "data": {
            "text/plain": [
              "array([[10.526944]], dtype=float32)"
            ]
          },
          "metadata": {},
          "execution_count": 26
        }
      ]
    },
    {
      "cell_type": "code",
      "source": [
        "y_pred + 11"
      ],
      "metadata": {
        "colab": {
          "base_uri": "https://localhost:8080/"
        },
        "id": "wCJiYMkhITe0",
        "outputId": "96acfa13-f3e3-424e-d6a1-189ffac84e84"
      },
      "execution_count": 27,
      "outputs": [
        {
          "output_type": "execute_result",
          "data": {
            "text/plain": [
              "array([[21.526943]], dtype=float32)"
            ]
          },
          "metadata": {},
          "execution_count": 27
        }
      ]
    },
    {
      "cell_type": "markdown",
      "source": [
        "## Improving our model\n",
        "\n",
        "We can imporve our model, by altering the steps we took to create a model.\n",
        "\n",
        "1. **Creating a model** - here we might add more layers, increase the number of hidden units (all called neurons) within each of the hidden layers, change the activation function of each layer.\n",
        "\n",
        "2. **Compiling a model** - here we might change the optimization function or perhaps the **learning rate** of the optimization function.\n",
        "\n",
        "3. **Fitting a model** - here we might fit a model for more **epochs** (leave it training for longer) or on more data (give the model more examples to learn from)."
      ],
      "metadata": {
        "id": "RVqV2VPXIw-p"
      }
    },
    {
      "cell_type": "code",
      "source": [
        "# Let's rebuild our model\n",
        "\n",
        "# 1. Create the model\n",
        "model = tf.keras.Sequential([\n",
        "    tf.keras.layers.Dense(1)\n",
        "])\n",
        "\n",
        "# 2. Compile the model\n",
        "model.compile(loss=tf.keras.losses.mae,\n",
        "              optimizer=tf.keras.optimizers.SGD(),\n",
        "              metrics=[\"mae\"])\n",
        "\n",
        "# 3. Fit the model increasing the epochs\n",
        "model.fit(tf.expand_dims(X, axis=-1), y, epochs=100)"
      ],
      "metadata": {
        "colab": {
          "base_uri": "https://localhost:8080/"
        },
        "id": "qe1VwPe1I2KI",
        "outputId": "f5bcf073-6c8c-488f-b4a1-3e20ff394908"
      },
      "execution_count": 32,
      "outputs": [
        {
          "output_type": "stream",
          "name": "stdout",
          "text": [
            "Epoch 1/100\n",
            "1/1 [==============================] - 1s 997ms/step - loss: 10.4223 - mae: 10.4223\n",
            "Epoch 2/100\n",
            "1/1 [==============================] - 0s 22ms/step - loss: 10.2898 - mae: 10.2898\n",
            "Epoch 3/100\n",
            "1/1 [==============================] - 0s 21ms/step - loss: 10.1573 - mae: 10.1573\n",
            "Epoch 4/100\n",
            "1/1 [==============================] - 0s 18ms/step - loss: 10.0248 - mae: 10.0248\n",
            "Epoch 5/100\n",
            "1/1 [==============================] - 0s 27ms/step - loss: 9.8923 - mae: 9.8923\n",
            "Epoch 6/100\n",
            "1/1 [==============================] - 0s 30ms/step - loss: 9.7598 - mae: 9.7598\n",
            "Epoch 7/100\n",
            "1/1 [==============================] - 0s 15ms/step - loss: 9.6273 - mae: 9.6273\n",
            "Epoch 8/100\n",
            "1/1 [==============================] - 0s 16ms/step - loss: 9.4948 - mae: 9.4948\n",
            "Epoch 9/100\n",
            "1/1 [==============================] - 0s 17ms/step - loss: 9.3623 - mae: 9.3623\n",
            "Epoch 10/100\n",
            "1/1 [==============================] - 0s 24ms/step - loss: 9.2298 - mae: 9.2298\n",
            "Epoch 11/100\n",
            "1/1 [==============================] - 0s 35ms/step - loss: 9.0973 - mae: 9.0973\n",
            "Epoch 12/100\n",
            "1/1 [==============================] - 0s 35ms/step - loss: 8.9648 - mae: 8.9648\n",
            "Epoch 13/100\n",
            "1/1 [==============================] - 0s 29ms/step - loss: 8.8323 - mae: 8.8323\n",
            "Epoch 14/100\n",
            "1/1 [==============================] - 0s 33ms/step - loss: 8.6998 - mae: 8.6998\n",
            "Epoch 15/100\n",
            "1/1 [==============================] - 0s 35ms/step - loss: 8.5673 - mae: 8.5673\n",
            "Epoch 16/100\n",
            "1/1 [==============================] - 0s 26ms/step - loss: 8.4348 - mae: 8.4348\n",
            "Epoch 17/100\n",
            "1/1 [==============================] - 0s 28ms/step - loss: 8.3023 - mae: 8.3023\n",
            "Epoch 18/100\n",
            "1/1 [==============================] - 0s 40ms/step - loss: 8.1698 - mae: 8.1698\n",
            "Epoch 19/100\n",
            "1/1 [==============================] - 0s 19ms/step - loss: 8.0373 - mae: 8.0373\n",
            "Epoch 20/100\n",
            "1/1 [==============================] - 0s 21ms/step - loss: 7.9048 - mae: 7.9048\n",
            "Epoch 21/100\n",
            "1/1 [==============================] - 0s 32ms/step - loss: 7.7723 - mae: 7.7723\n",
            "Epoch 22/100\n",
            "1/1 [==============================] - 0s 14ms/step - loss: 7.6398 - mae: 7.6398\n",
            "Epoch 23/100\n",
            "1/1 [==============================] - 0s 36ms/step - loss: 7.5073 - mae: 7.5073\n",
            "Epoch 24/100\n",
            "1/1 [==============================] - 0s 32ms/step - loss: 7.3748 - mae: 7.3748\n",
            "Epoch 25/100\n",
            "1/1 [==============================] - 0s 38ms/step - loss: 7.3200 - mae: 7.3200\n",
            "Epoch 26/100\n",
            "1/1 [==============================] - 0s 52ms/step - loss: 7.3144 - mae: 7.3144\n",
            "Epoch 27/100\n",
            "1/1 [==============================] - 0s 29ms/step - loss: 7.3087 - mae: 7.3087\n",
            "Epoch 28/100\n",
            "1/1 [==============================] - 0s 27ms/step - loss: 7.3031 - mae: 7.3031\n",
            "Epoch 29/100\n",
            "1/1 [==============================] - 0s 29ms/step - loss: 7.2975 - mae: 7.2975\n",
            "Epoch 30/100\n",
            "1/1 [==============================] - 0s 35ms/step - loss: 7.2919 - mae: 7.2919\n",
            "Epoch 31/100\n",
            "1/1 [==============================] - 0s 28ms/step - loss: 7.2863 - mae: 7.2863\n",
            "Epoch 32/100\n",
            "1/1 [==============================] - 0s 30ms/step - loss: 7.2806 - mae: 7.2806\n",
            "Epoch 33/100\n",
            "1/1 [==============================] - 0s 20ms/step - loss: 7.2750 - mae: 7.2750\n",
            "Epoch 34/100\n",
            "1/1 [==============================] - 0s 18ms/step - loss: 7.2694 - mae: 7.2694\n",
            "Epoch 35/100\n",
            "1/1 [==============================] - 0s 21ms/step - loss: 7.2638 - mae: 7.2638\n",
            "Epoch 36/100\n",
            "1/1 [==============================] - 0s 21ms/step - loss: 7.2581 - mae: 7.2581\n",
            "Epoch 37/100\n",
            "1/1 [==============================] - 0s 15ms/step - loss: 7.2525 - mae: 7.2525\n",
            "Epoch 38/100\n",
            "1/1 [==============================] - 0s 25ms/step - loss: 7.2469 - mae: 7.2469\n",
            "Epoch 39/100\n",
            "1/1 [==============================] - 0s 28ms/step - loss: 7.2413 - mae: 7.2413\n",
            "Epoch 40/100\n",
            "1/1 [==============================] - 0s 24ms/step - loss: 7.2356 - mae: 7.2356\n",
            "Epoch 41/100\n",
            "1/1 [==============================] - 0s 24ms/step - loss: 7.2300 - mae: 7.2300\n",
            "Epoch 42/100\n",
            "1/1 [==============================] - 0s 34ms/step - loss: 7.2244 - mae: 7.2244\n",
            "Epoch 43/100\n",
            "1/1 [==============================] - 0s 33ms/step - loss: 7.2188 - mae: 7.2188\n",
            "Epoch 44/100\n",
            "1/1 [==============================] - 0s 29ms/step - loss: 7.2131 - mae: 7.2131\n",
            "Epoch 45/100\n",
            "1/1 [==============================] - 0s 33ms/step - loss: 7.2075 - mae: 7.2075\n",
            "Epoch 46/100\n",
            "1/1 [==============================] - 0s 18ms/step - loss: 7.2019 - mae: 7.2019\n",
            "Epoch 47/100\n",
            "1/1 [==============================] - 0s 29ms/step - loss: 7.1962 - mae: 7.1962\n",
            "Epoch 48/100\n",
            "1/1 [==============================] - 0s 21ms/step - loss: 7.1906 - mae: 7.1906\n",
            "Epoch 49/100\n",
            "1/1 [==============================] - 0s 23ms/step - loss: 7.1850 - mae: 7.1850\n",
            "Epoch 50/100\n",
            "1/1 [==============================] - 0s 44ms/step - loss: 7.1794 - mae: 7.1794\n",
            "Epoch 51/100\n",
            "1/1 [==============================] - 0s 48ms/step - loss: 7.1738 - mae: 7.1738\n",
            "Epoch 52/100\n",
            "1/1 [==============================] - 0s 47ms/step - loss: 7.1681 - mae: 7.1681\n",
            "Epoch 53/100\n",
            "1/1 [==============================] - 0s 45ms/step - loss: 7.1625 - mae: 7.1625\n",
            "Epoch 54/100\n",
            "1/1 [==============================] - 0s 21ms/step - loss: 7.1569 - mae: 7.1569\n",
            "Epoch 55/100\n",
            "1/1 [==============================] - 0s 22ms/step - loss: 7.1512 - mae: 7.1512\n",
            "Epoch 56/100\n",
            "1/1 [==============================] - 0s 27ms/step - loss: 7.1456 - mae: 7.1456\n",
            "Epoch 57/100\n",
            "1/1 [==============================] - 0s 16ms/step - loss: 7.1400 - mae: 7.1400\n",
            "Epoch 58/100\n",
            "1/1 [==============================] - 0s 23ms/step - loss: 7.1344 - mae: 7.1344\n",
            "Epoch 59/100\n",
            "1/1 [==============================] - 0s 35ms/step - loss: 7.1287 - mae: 7.1287\n",
            "Epoch 60/100\n",
            "1/1 [==============================] - 0s 28ms/step - loss: 7.1231 - mae: 7.1231\n",
            "Epoch 61/100\n",
            "1/1 [==============================] - 0s 32ms/step - loss: 7.1175 - mae: 7.1175\n",
            "Epoch 62/100\n",
            "1/1 [==============================] - 0s 24ms/step - loss: 7.1119 - mae: 7.1119\n",
            "Epoch 63/100\n",
            "1/1 [==============================] - 0s 21ms/step - loss: 7.1063 - mae: 7.1063\n",
            "Epoch 64/100\n",
            "1/1 [==============================] - 0s 23ms/step - loss: 7.1006 - mae: 7.1006\n",
            "Epoch 65/100\n",
            "1/1 [==============================] - 0s 27ms/step - loss: 7.0950 - mae: 7.0950\n",
            "Epoch 66/100\n",
            "1/1 [==============================] - 0s 21ms/step - loss: 7.0894 - mae: 7.0894\n",
            "Epoch 67/100\n",
            "1/1 [==============================] - 0s 13ms/step - loss: 7.0837 - mae: 7.0837\n",
            "Epoch 68/100\n",
            "1/1 [==============================] - 0s 38ms/step - loss: 7.0781 - mae: 7.0781\n",
            "Epoch 69/100\n",
            "1/1 [==============================] - 0s 25ms/step - loss: 7.0725 - mae: 7.0725\n",
            "Epoch 70/100\n",
            "1/1 [==============================] - 0s 23ms/step - loss: 7.0669 - mae: 7.0669\n",
            "Epoch 71/100\n",
            "1/1 [==============================] - 0s 14ms/step - loss: 7.0613 - mae: 7.0613\n",
            "Epoch 72/100\n",
            "1/1 [==============================] - 0s 49ms/step - loss: 7.0556 - mae: 7.0556\n",
            "Epoch 73/100\n",
            "1/1 [==============================] - 0s 30ms/step - loss: 7.0500 - mae: 7.0500\n",
            "Epoch 74/100\n",
            "1/1 [==============================] - 0s 46ms/step - loss: 7.0444 - mae: 7.0444\n",
            "Epoch 75/100\n",
            "1/1 [==============================] - 0s 26ms/step - loss: 7.0388 - mae: 7.0388\n",
            "Epoch 76/100\n",
            "1/1 [==============================] - 0s 22ms/step - loss: 7.0331 - mae: 7.0331\n",
            "Epoch 77/100\n",
            "1/1 [==============================] - 0s 17ms/step - loss: 7.0275 - mae: 7.0275\n",
            "Epoch 78/100\n",
            "1/1 [==============================] - 0s 37ms/step - loss: 7.0219 - mae: 7.0219\n",
            "Epoch 79/100\n",
            "1/1 [==============================] - 0s 26ms/step - loss: 7.0163 - mae: 7.0163\n",
            "Epoch 80/100\n",
            "1/1 [==============================] - 0s 19ms/step - loss: 7.0106 - mae: 7.0106\n",
            "Epoch 81/100\n",
            "1/1 [==============================] - 0s 22ms/step - loss: 7.0050 - mae: 7.0050\n",
            "Epoch 82/100\n",
            "1/1 [==============================] - 0s 15ms/step - loss: 6.9994 - mae: 6.9994\n",
            "Epoch 83/100\n",
            "1/1 [==============================] - 0s 18ms/step - loss: 6.9938 - mae: 6.9938\n",
            "Epoch 84/100\n",
            "1/1 [==============================] - 0s 14ms/step - loss: 6.9881 - mae: 6.9881\n",
            "Epoch 85/100\n",
            "1/1 [==============================] - 0s 28ms/step - loss: 6.9825 - mae: 6.9825\n",
            "Epoch 86/100\n",
            "1/1 [==============================] - 0s 19ms/step - loss: 6.9769 - mae: 6.9769\n",
            "Epoch 87/100\n",
            "1/1 [==============================] - 0s 16ms/step - loss: 6.9713 - mae: 6.9713\n",
            "Epoch 88/100\n",
            "1/1 [==============================] - 0s 26ms/step - loss: 6.9656 - mae: 6.9656\n",
            "Epoch 89/100\n",
            "1/1 [==============================] - 0s 22ms/step - loss: 6.9600 - mae: 6.9600\n",
            "Epoch 90/100\n",
            "1/1 [==============================] - 0s 18ms/step - loss: 6.9544 - mae: 6.9544\n",
            "Epoch 91/100\n",
            "1/1 [==============================] - 0s 28ms/step - loss: 6.9488 - mae: 6.9488\n",
            "Epoch 92/100\n",
            "1/1 [==============================] - 0s 25ms/step - loss: 6.9431 - mae: 6.9431\n",
            "Epoch 93/100\n",
            "1/1 [==============================] - 0s 17ms/step - loss: 6.9375 - mae: 6.9375\n",
            "Epoch 94/100\n",
            "1/1 [==============================] - 0s 30ms/step - loss: 6.9319 - mae: 6.9319\n",
            "Epoch 95/100\n",
            "1/1 [==============================] - 0s 31ms/step - loss: 6.9263 - mae: 6.9263\n",
            "Epoch 96/100\n",
            "1/1 [==============================] - 0s 21ms/step - loss: 6.9206 - mae: 6.9206\n",
            "Epoch 97/100\n",
            "1/1 [==============================] - 0s 28ms/step - loss: 6.9150 - mae: 6.9150\n",
            "Epoch 98/100\n",
            "1/1 [==============================] - 0s 21ms/step - loss: 6.9094 - mae: 6.9094\n",
            "Epoch 99/100\n",
            "1/1 [==============================] - 0s 19ms/step - loss: 6.9038 - mae: 6.9038\n",
            "Epoch 100/100\n",
            "1/1 [==============================] - 0s 23ms/step - loss: 6.8981 - mae: 6.8981\n"
          ]
        },
        {
          "output_type": "execute_result",
          "data": {
            "text/plain": [
              "<keras.callbacks.History at 0x79b4501318d0>"
            ]
          },
          "metadata": {},
          "execution_count": 32
        }
      ]
    },
    {
      "cell_type": "code",
      "source": [
        "# Remind ourselves of the data\n",
        "X, y"
      ],
      "metadata": {
        "colab": {
          "base_uri": "https://localhost:8080/"
        },
        "id": "OAvFeV1dMvXm",
        "outputId": "7f23df70-1f99-4cb3-dcff-7db50484046a"
      },
      "execution_count": 33,
      "outputs": [
        {
          "output_type": "execute_result",
          "data": {
            "text/plain": [
              "(<tf.Tensor: shape=(8,), dtype=float64, numpy=array([-7., -4., -1.,  2.,  5.,  8., 11., 14.])>,\n",
              " <tf.Tensor: shape=(8,), dtype=float64, numpy=array([ 3.,  6.,  9., 12., 15., 18., 21., 24.])>)"
            ]
          },
          "metadata": {},
          "execution_count": 33
        }
      ]
    },
    {
      "cell_type": "code",
      "source": [
        "# Let's see if our model's prediction has improved...\n",
        "model.predict([17.0])"
      ],
      "metadata": {
        "colab": {
          "base_uri": "https://localhost:8080/"
        },
        "id": "ZfAESt40NUUq",
        "outputId": "562c2126-a8b7-4f9c-8250-559a61088746"
      },
      "execution_count": 34,
      "outputs": [
        {
          "output_type": "stream",
          "name": "stdout",
          "text": [
            "1/1 [==============================] - 1s 561ms/step\n"
          ]
        },
        {
          "output_type": "execute_result",
          "data": {
            "text/plain": [
              "array([[30.038864]], dtype=float32)"
            ]
          },
          "metadata": {},
          "execution_count": 34
        }
      ]
    },
    {
      "cell_type": "code",
      "source": [
        "# Experimenting by changing the optimizer\n",
        "\n",
        "# 1. Create the model\n",
        "model = tf.keras.Sequential([\n",
        "    tf.keras.layers.Dense(1)\n",
        "])\n",
        "\n",
        "# 2. Compile the model\n",
        "model.compile(loss=tf.keras.losses.mae,\n",
        "              optimizer=tf.keras.optimizers.Adam(learning_rate=0.002),\n",
        "              metrics=[\"mae\"])\n",
        "\n",
        "# 3. Fit the model increasing the epochs\n",
        "model.fit(tf.expand_dims(X, axis=-1), y, epochs=100)"
      ],
      "metadata": {
        "colab": {
          "base_uri": "https://localhost:8080/"
        },
        "id": "UCi8B155NbMu",
        "outputId": "6418a3b1-8975-4117-aea6-d8cd1d704cb5"
      },
      "execution_count": 35,
      "outputs": [
        {
          "output_type": "stream",
          "name": "stdout",
          "text": [
            "Epoch 1/100\n",
            "1/1 [==============================] - 1s 1s/step - loss: 9.8085 - mae: 9.8085\n",
            "Epoch 2/100\n",
            "1/1 [==============================] - 0s 33ms/step - loss: 9.7995 - mae: 9.7995\n",
            "Epoch 3/100\n",
            "1/1 [==============================] - 0s 23ms/step - loss: 9.7905 - mae: 9.7905\n",
            "Epoch 4/100\n",
            "1/1 [==============================] - 0s 24ms/step - loss: 9.7815 - mae: 9.7815\n",
            "Epoch 5/100\n",
            "1/1 [==============================] - 0s 23ms/step - loss: 9.7725 - mae: 9.7725\n",
            "Epoch 6/100\n",
            "1/1 [==============================] - 0s 22ms/step - loss: 9.7635 - mae: 9.7635\n",
            "Epoch 7/100\n",
            "1/1 [==============================] - 0s 19ms/step - loss: 9.7545 - mae: 9.7545\n",
            "Epoch 8/100\n",
            "1/1 [==============================] - 0s 19ms/step - loss: 9.7455 - mae: 9.7455\n",
            "Epoch 9/100\n",
            "1/1 [==============================] - 0s 22ms/step - loss: 9.7365 - mae: 9.7365\n",
            "Epoch 10/100\n",
            "1/1 [==============================] - 0s 18ms/step - loss: 9.7275 - mae: 9.7275\n",
            "Epoch 11/100\n",
            "1/1 [==============================] - 0s 25ms/step - loss: 9.7185 - mae: 9.7185\n",
            "Epoch 12/100\n",
            "1/1 [==============================] - 0s 25ms/step - loss: 9.7095 - mae: 9.7095\n",
            "Epoch 13/100\n",
            "1/1 [==============================] - 0s 27ms/step - loss: 9.7005 - mae: 9.7005\n",
            "Epoch 14/100\n",
            "1/1 [==============================] - 0s 27ms/step - loss: 9.6915 - mae: 9.6915\n",
            "Epoch 15/100\n",
            "1/1 [==============================] - 0s 22ms/step - loss: 9.6825 - mae: 9.6825\n",
            "Epoch 16/100\n",
            "1/1 [==============================] - 0s 17ms/step - loss: 9.6735 - mae: 9.6735\n",
            "Epoch 17/100\n",
            "1/1 [==============================] - 0s 24ms/step - loss: 9.6645 - mae: 9.6645\n",
            "Epoch 18/100\n",
            "1/1 [==============================] - 0s 24ms/step - loss: 9.6555 - mae: 9.6555\n",
            "Epoch 19/100\n",
            "1/1 [==============================] - 0s 22ms/step - loss: 9.6465 - mae: 9.6465\n",
            "Epoch 20/100\n",
            "1/1 [==============================] - 0s 26ms/step - loss: 9.6375 - mae: 9.6375\n",
            "Epoch 21/100\n",
            "1/1 [==============================] - 0s 36ms/step - loss: 9.6285 - mae: 9.6285\n",
            "Epoch 22/100\n",
            "1/1 [==============================] - 0s 16ms/step - loss: 9.6195 - mae: 9.6195\n",
            "Epoch 23/100\n",
            "1/1 [==============================] - 0s 17ms/step - loss: 9.6105 - mae: 9.6105\n",
            "Epoch 24/100\n",
            "1/1 [==============================] - 0s 28ms/step - loss: 9.6015 - mae: 9.6015\n",
            "Epoch 25/100\n",
            "1/1 [==============================] - 0s 18ms/step - loss: 9.5925 - mae: 9.5925\n",
            "Epoch 26/100\n",
            "1/1 [==============================] - 0s 21ms/step - loss: 9.5835 - mae: 9.5835\n",
            "Epoch 27/100\n",
            "1/1 [==============================] - 0s 20ms/step - loss: 9.5745 - mae: 9.5745\n",
            "Epoch 28/100\n",
            "1/1 [==============================] - 0s 30ms/step - loss: 9.5655 - mae: 9.5655\n",
            "Epoch 29/100\n",
            "1/1 [==============================] - 0s 17ms/step - loss: 9.5565 - mae: 9.5565\n",
            "Epoch 30/100\n",
            "1/1 [==============================] - 0s 16ms/step - loss: 9.5475 - mae: 9.5475\n",
            "Epoch 31/100\n",
            "1/1 [==============================] - 0s 15ms/step - loss: 9.5385 - mae: 9.5385\n",
            "Epoch 32/100\n",
            "1/1 [==============================] - 0s 19ms/step - loss: 9.5295 - mae: 9.5295\n",
            "Epoch 33/100\n",
            "1/1 [==============================] - 0s 27ms/step - loss: 9.5205 - mae: 9.5205\n",
            "Epoch 34/100\n",
            "1/1 [==============================] - 0s 23ms/step - loss: 9.5115 - mae: 9.5115\n",
            "Epoch 35/100\n",
            "1/1 [==============================] - 0s 20ms/step - loss: 9.5025 - mae: 9.5025\n",
            "Epoch 36/100\n",
            "1/1 [==============================] - 0s 20ms/step - loss: 9.4935 - mae: 9.4935\n",
            "Epoch 37/100\n",
            "1/1 [==============================] - 0s 16ms/step - loss: 9.4845 - mae: 9.4845\n",
            "Epoch 38/100\n",
            "1/1 [==============================] - 0s 21ms/step - loss: 9.4755 - mae: 9.4755\n",
            "Epoch 39/100\n",
            "1/1 [==============================] - 0s 19ms/step - loss: 9.4665 - mae: 9.4665\n",
            "Epoch 40/100\n",
            "1/1 [==============================] - 0s 18ms/step - loss: 9.4575 - mae: 9.4575\n",
            "Epoch 41/100\n",
            "1/1 [==============================] - 0s 18ms/step - loss: 9.4485 - mae: 9.4485\n",
            "Epoch 42/100\n",
            "1/1 [==============================] - 0s 25ms/step - loss: 9.4395 - mae: 9.4395\n",
            "Epoch 43/100\n",
            "1/1 [==============================] - 0s 34ms/step - loss: 9.4305 - mae: 9.4305\n",
            "Epoch 44/100\n",
            "1/1 [==============================] - 0s 23ms/step - loss: 9.4215 - mae: 9.4215\n",
            "Epoch 45/100\n",
            "1/1 [==============================] - 0s 31ms/step - loss: 9.4125 - mae: 9.4125\n",
            "Epoch 46/100\n",
            "1/1 [==============================] - 0s 18ms/step - loss: 9.4035 - mae: 9.4035\n",
            "Epoch 47/100\n",
            "1/1 [==============================] - 0s 12ms/step - loss: 9.3945 - mae: 9.3945\n",
            "Epoch 48/100\n",
            "1/1 [==============================] - 0s 13ms/step - loss: 9.3855 - mae: 9.3855\n",
            "Epoch 49/100\n",
            "1/1 [==============================] - 0s 20ms/step - loss: 9.3765 - mae: 9.3765\n",
            "Epoch 50/100\n",
            "1/1 [==============================] - 0s 12ms/step - loss: 9.3675 - mae: 9.3675\n",
            "Epoch 51/100\n",
            "1/1 [==============================] - 0s 10ms/step - loss: 9.3585 - mae: 9.3585\n",
            "Epoch 52/100\n",
            "1/1 [==============================] - 0s 10ms/step - loss: 9.3495 - mae: 9.3495\n",
            "Epoch 53/100\n",
            "1/1 [==============================] - 0s 15ms/step - loss: 9.3405 - mae: 9.3405\n",
            "Epoch 54/100\n",
            "1/1 [==============================] - 0s 13ms/step - loss: 9.3315 - mae: 9.3315\n",
            "Epoch 55/100\n",
            "1/1 [==============================] - 0s 14ms/step - loss: 9.3225 - mae: 9.3225\n",
            "Epoch 56/100\n",
            "1/1 [==============================] - 0s 15ms/step - loss: 9.3135 - mae: 9.3135\n",
            "Epoch 57/100\n",
            "1/1 [==============================] - 0s 14ms/step - loss: 9.3045 - mae: 9.3045\n",
            "Epoch 58/100\n",
            "1/1 [==============================] - 0s 12ms/step - loss: 9.2955 - mae: 9.2955\n",
            "Epoch 59/100\n",
            "1/1 [==============================] - 0s 13ms/step - loss: 9.2865 - mae: 9.2865\n",
            "Epoch 60/100\n",
            "1/1 [==============================] - 0s 10ms/step - loss: 9.2775 - mae: 9.2775\n",
            "Epoch 61/100\n",
            "1/1 [==============================] - 0s 13ms/step - loss: 9.2685 - mae: 9.2685\n",
            "Epoch 62/100\n",
            "1/1 [==============================] - 0s 12ms/step - loss: 9.2595 - mae: 9.2595\n",
            "Epoch 63/100\n",
            "1/1 [==============================] - 0s 15ms/step - loss: 9.2505 - mae: 9.2505\n",
            "Epoch 64/100\n",
            "1/1 [==============================] - 0s 12ms/step - loss: 9.2415 - mae: 9.2415\n",
            "Epoch 65/100\n",
            "1/1 [==============================] - 0s 13ms/step - loss: 9.2325 - mae: 9.2325\n",
            "Epoch 66/100\n",
            "1/1 [==============================] - 0s 10ms/step - loss: 9.2235 - mae: 9.2235\n",
            "Epoch 67/100\n",
            "1/1 [==============================] - 0s 11ms/step - loss: 9.2145 - mae: 9.2145\n",
            "Epoch 68/100\n",
            "1/1 [==============================] - 0s 13ms/step - loss: 9.2055 - mae: 9.2055\n",
            "Epoch 69/100\n",
            "1/1 [==============================] - 0s 14ms/step - loss: 9.1965 - mae: 9.1965\n",
            "Epoch 70/100\n",
            "1/1 [==============================] - 0s 14ms/step - loss: 9.1875 - mae: 9.1875\n",
            "Epoch 71/100\n",
            "1/1 [==============================] - 0s 13ms/step - loss: 9.1785 - mae: 9.1785\n",
            "Epoch 72/100\n",
            "1/1 [==============================] - 0s 12ms/step - loss: 9.1695 - mae: 9.1695\n",
            "Epoch 73/100\n",
            "1/1 [==============================] - 0s 12ms/step - loss: 9.1605 - mae: 9.1605\n",
            "Epoch 74/100\n",
            "1/1 [==============================] - 0s 14ms/step - loss: 9.1515 - mae: 9.1515\n",
            "Epoch 75/100\n",
            "1/1 [==============================] - 0s 14ms/step - loss: 9.1425 - mae: 9.1425\n",
            "Epoch 76/100\n",
            "1/1 [==============================] - 0s 12ms/step - loss: 9.1335 - mae: 9.1335\n",
            "Epoch 77/100\n",
            "1/1 [==============================] - 0s 11ms/step - loss: 9.1245 - mae: 9.1245\n",
            "Epoch 78/100\n",
            "1/1 [==============================] - 0s 11ms/step - loss: 9.1155 - mae: 9.1155\n",
            "Epoch 79/100\n",
            "1/1 [==============================] - 0s 11ms/step - loss: 9.1065 - mae: 9.1065\n",
            "Epoch 80/100\n",
            "1/1 [==============================] - 0s 11ms/step - loss: 9.0975 - mae: 9.0975\n",
            "Epoch 81/100\n",
            "1/1 [==============================] - 0s 11ms/step - loss: 9.0885 - mae: 9.0885\n",
            "Epoch 82/100\n",
            "1/1 [==============================] - 0s 11ms/step - loss: 9.0795 - mae: 9.0795\n",
            "Epoch 83/100\n",
            "1/1 [==============================] - 0s 10ms/step - loss: 9.0705 - mae: 9.0705\n",
            "Epoch 84/100\n",
            "1/1 [==============================] - 0s 11ms/step - loss: 9.0615 - mae: 9.0615\n",
            "Epoch 85/100\n",
            "1/1 [==============================] - 0s 11ms/step - loss: 9.0525 - mae: 9.0525\n",
            "Epoch 86/100\n",
            "1/1 [==============================] - 0s 12ms/step - loss: 9.0435 - mae: 9.0435\n",
            "Epoch 87/100\n",
            "1/1 [==============================] - 0s 11ms/step - loss: 9.0345 - mae: 9.0345\n",
            "Epoch 88/100\n",
            "1/1 [==============================] - 0s 12ms/step - loss: 9.0255 - mae: 9.0255\n",
            "Epoch 89/100\n",
            "1/1 [==============================] - 0s 13ms/step - loss: 9.0165 - mae: 9.0165\n",
            "Epoch 90/100\n",
            "1/1 [==============================] - 0s 12ms/step - loss: 9.0075 - mae: 9.0075\n",
            "Epoch 91/100\n",
            "1/1 [==============================] - 0s 12ms/step - loss: 8.9985 - mae: 8.9985\n",
            "Epoch 92/100\n",
            "1/1 [==============================] - 0s 14ms/step - loss: 8.9895 - mae: 8.9895\n",
            "Epoch 93/100\n",
            "1/1 [==============================] - 0s 14ms/step - loss: 8.9805 - mae: 8.9805\n",
            "Epoch 94/100\n",
            "1/1 [==============================] - 0s 13ms/step - loss: 8.9715 - mae: 8.9715\n",
            "Epoch 95/100\n",
            "1/1 [==============================] - 0s 13ms/step - loss: 8.9625 - mae: 8.9625\n",
            "Epoch 96/100\n",
            "1/1 [==============================] - 0s 13ms/step - loss: 8.9535 - mae: 8.9535\n",
            "Epoch 97/100\n",
            "1/1 [==============================] - 0s 12ms/step - loss: 8.9445 - mae: 8.9445\n",
            "Epoch 98/100\n",
            "1/1 [==============================] - 0s 11ms/step - loss: 8.9355 - mae: 8.9355\n",
            "Epoch 99/100\n",
            "1/1 [==============================] - 0s 12ms/step - loss: 8.9265 - mae: 8.9265\n",
            "Epoch 100/100\n",
            "1/1 [==============================] - 0s 14ms/step - loss: 8.9175 - mae: 8.9175\n"
          ]
        },
        {
          "output_type": "execute_result",
          "data": {
            "text/plain": [
              "<keras.callbacks.History at 0x79b441a2ebf0>"
            ]
          },
          "metadata": {},
          "execution_count": 35
        }
      ]
    },
    {
      "cell_type": "code",
      "source": [
        "# Let's see if our model's prediction has improved...\n",
        "model.predict([17.0])"
      ],
      "metadata": {
        "colab": {
          "base_uri": "https://localhost:8080/"
        },
        "id": "233nKbZSOFcR",
        "outputId": "8b7abd64-2d2d-444c-9bdd-6545407dfb24"
      },
      "execution_count": 36,
      "outputs": [
        {
          "output_type": "stream",
          "name": "stdout",
          "text": [
            "1/1 [==============================] - 0s 94ms/step\n"
          ]
        },
        {
          "output_type": "execute_result",
          "data": {
            "text/plain": [
              "array([[21.530098]], dtype=float32)"
            ]
          },
          "metadata": {},
          "execution_count": 36
        }
      ]
    },
    {
      "cell_type": "code",
      "source": [
        "# Let's add another change to improve the model\n",
        "\n",
        "# 1. Create the model with an extra hidden layer\n",
        "model = tf.keras.Sequential([\n",
        "    tf.keras.layers.Dense(100, activation=\"relu\"),\n",
        "    tf.keras.layers.Dense(1)\n",
        "])\n",
        "\n",
        "# 2. Compile the model\n",
        "model.compile(loss=tf.keras.losses.mae,\n",
        "              optimizer=tf.keras.optimizers.SGD(),\n",
        "              metrics=[\"mae\"])\n",
        "\n",
        "# 3. Fit the model increasing the epochs\n",
        "model.fit(tf.expand_dims(X, axis=-1), y, epochs=100)"
      ],
      "metadata": {
        "colab": {
          "base_uri": "https://localhost:8080/"
        },
        "id": "6KfQQwWvOJvs",
        "outputId": "b73de317-b65d-4d9f-8108-7ac45f854c3a"
      },
      "execution_count": 38,
      "outputs": [
        {
          "output_type": "stream",
          "name": "stdout",
          "text": [
            "Epoch 1/100\n",
            "1/1 [==============================] - 1s 1s/step - loss: 13.1405 - mae: 13.1405\n",
            "Epoch 2/100\n",
            "1/1 [==============================] - 0s 15ms/step - loss: 12.4828 - mae: 12.4828\n",
            "Epoch 3/100\n",
            "1/1 [==============================] - 0s 13ms/step - loss: 11.8206 - mae: 11.8206\n",
            "Epoch 4/100\n",
            "1/1 [==============================] - 0s 14ms/step - loss: 11.1698 - mae: 11.1698\n",
            "Epoch 5/100\n",
            "1/1 [==============================] - 0s 16ms/step - loss: 10.4976 - mae: 10.4976\n",
            "Epoch 6/100\n",
            "1/1 [==============================] - 0s 15ms/step - loss: 9.8063 - mae: 9.8063\n",
            "Epoch 7/100\n",
            "1/1 [==============================] - 0s 20ms/step - loss: 9.0946 - mae: 9.0946\n",
            "Epoch 8/100\n",
            "1/1 [==============================] - 0s 13ms/step - loss: 8.3456 - mae: 8.3456\n",
            "Epoch 9/100\n",
            "1/1 [==============================] - 0s 14ms/step - loss: 7.5547 - mae: 7.5547\n",
            "Epoch 10/100\n",
            "1/1 [==============================] - 0s 18ms/step - loss: 6.7103 - mae: 6.7103\n",
            "Epoch 11/100\n",
            "1/1 [==============================] - 0s 29ms/step - loss: 5.8136 - mae: 5.8136\n",
            "Epoch 12/100\n",
            "1/1 [==============================] - 0s 24ms/step - loss: 4.8482 - mae: 4.8482\n",
            "Epoch 13/100\n",
            "1/1 [==============================] - 0s 20ms/step - loss: 4.0867 - mae: 4.0867\n",
            "Epoch 14/100\n",
            "1/1 [==============================] - 0s 20ms/step - loss: 3.9851 - mae: 3.9851\n",
            "Epoch 15/100\n",
            "1/1 [==============================] - 0s 19ms/step - loss: 3.9167 - mae: 3.9167\n",
            "Epoch 16/100\n",
            "1/1 [==============================] - 0s 18ms/step - loss: 3.9587 - mae: 3.9587\n",
            "Epoch 17/100\n",
            "1/1 [==============================] - 0s 19ms/step - loss: 3.9308 - mae: 3.9308\n",
            "Epoch 18/100\n",
            "1/1 [==============================] - 0s 19ms/step - loss: 3.9394 - mae: 3.9394\n",
            "Epoch 19/100\n",
            "1/1 [==============================] - 0s 20ms/step - loss: 3.9392 - mae: 3.9392\n",
            "Epoch 20/100\n",
            "1/1 [==============================] - 0s 27ms/step - loss: 3.9126 - mae: 3.9126\n",
            "Epoch 21/100\n",
            "1/1 [==============================] - 0s 23ms/step - loss: 3.9467 - mae: 3.9467\n",
            "Epoch 22/100\n",
            "1/1 [==============================] - 0s 26ms/step - loss: 3.8857 - mae: 3.8857\n",
            "Epoch 23/100\n",
            "1/1 [==============================] - 0s 24ms/step - loss: 3.9542 - mae: 3.9542\n",
            "Epoch 24/100\n",
            "1/1 [==============================] - 0s 23ms/step - loss: 3.8835 - mae: 3.8835\n",
            "Epoch 25/100\n",
            "1/1 [==============================] - 0s 26ms/step - loss: 3.9412 - mae: 3.9412\n",
            "Epoch 26/100\n",
            "1/1 [==============================] - 0s 30ms/step - loss: 3.8989 - mae: 3.8989\n",
            "Epoch 27/100\n",
            "1/1 [==============================] - 0s 26ms/step - loss: 3.9165 - mae: 3.9165\n",
            "Epoch 28/100\n",
            "1/1 [==============================] - 0s 31ms/step - loss: 3.9064 - mae: 3.9064\n",
            "Epoch 29/100\n",
            "1/1 [==============================] - 0s 16ms/step - loss: 3.8895 - mae: 3.8895\n",
            "Epoch 30/100\n",
            "1/1 [==============================] - 0s 17ms/step - loss: 3.9141 - mae: 3.9141\n",
            "Epoch 31/100\n",
            "1/1 [==============================] - 0s 16ms/step - loss: 3.8623 - mae: 3.8623\n",
            "Epoch 32/100\n",
            "1/1 [==============================] - 0s 30ms/step - loss: 3.9219 - mae: 3.9219\n",
            "Epoch 33/100\n",
            "1/1 [==============================] - 0s 41ms/step - loss: 3.8540 - mae: 3.8540\n",
            "Epoch 34/100\n",
            "1/1 [==============================] - 0s 20ms/step - loss: 3.9196 - mae: 3.9196\n",
            "Epoch 35/100\n",
            "1/1 [==============================] - 0s 23ms/step - loss: 3.8671 - mae: 3.8671\n",
            "Epoch 36/100\n",
            "1/1 [==============================] - 0s 36ms/step - loss: 3.8924 - mae: 3.8924\n",
            "Epoch 37/100\n",
            "1/1 [==============================] - 0s 31ms/step - loss: 3.8748 - mae: 3.8748\n",
            "Epoch 38/100\n",
            "1/1 [==============================] - 0s 12ms/step - loss: 3.8651 - mae: 3.8651\n",
            "Epoch 39/100\n",
            "1/1 [==============================] - 0s 16ms/step - loss: 3.8826 - mae: 3.8826\n",
            "Epoch 40/100\n",
            "1/1 [==============================] - 0s 14ms/step - loss: 3.8376 - mae: 3.8376\n",
            "Epoch 41/100\n",
            "1/1 [==============================] - 0s 13ms/step - loss: 3.8906 - mae: 3.8906\n",
            "Epoch 42/100\n",
            "1/1 [==============================] - 0s 13ms/step - loss: 3.8284 - mae: 3.8284\n",
            "Epoch 43/100\n",
            "1/1 [==============================] - 0s 12ms/step - loss: 3.8944 - mae: 3.8944\n",
            "Epoch 44/100\n",
            "1/1 [==============================] - 0s 13ms/step - loss: 3.8364 - mae: 3.8364\n",
            "Epoch 45/100\n",
            "1/1 [==============================] - 0s 12ms/step - loss: 3.8670 - mae: 3.8670\n",
            "Epoch 46/100\n",
            "1/1 [==============================] - 0s 12ms/step - loss: 3.8443 - mae: 3.8443\n",
            "Epoch 47/100\n",
            "1/1 [==============================] - 0s 14ms/step - loss: 3.8394 - mae: 3.8394\n",
            "Epoch 48/100\n",
            "1/1 [==============================] - 0s 14ms/step - loss: 3.8523 - mae: 3.8523\n",
            "Epoch 49/100\n",
            "1/1 [==============================] - 0s 12ms/step - loss: 3.8117 - mae: 3.8117\n",
            "Epoch 50/100\n",
            "1/1 [==============================] - 0s 16ms/step - loss: 3.8656 - mae: 3.8656\n",
            "Epoch 51/100\n",
            "1/1 [==============================] - 0s 12ms/step - loss: 3.7988 - mae: 3.7988\n",
            "Epoch 52/100\n",
            "1/1 [==============================] - 0s 12ms/step - loss: 3.8680 - mae: 3.8680\n",
            "Epoch 53/100\n",
            "1/1 [==============================] - 0s 12ms/step - loss: 3.8067 - mae: 3.8067\n",
            "Epoch 54/100\n",
            "1/1 [==============================] - 0s 12ms/step - loss: 3.8402 - mae: 3.8402\n",
            "Epoch 55/100\n",
            "1/1 [==============================] - 0s 12ms/step - loss: 3.8149 - mae: 3.8149\n",
            "Epoch 56/100\n",
            "1/1 [==============================] - 0s 12ms/step - loss: 3.8124 - mae: 3.8124\n",
            "Epoch 57/100\n",
            "1/1 [==============================] - 0s 12ms/step - loss: 3.8231 - mae: 3.8231\n",
            "Epoch 58/100\n",
            "1/1 [==============================] - 0s 12ms/step - loss: 3.7874 - mae: 3.7874\n",
            "Epoch 59/100\n",
            "1/1 [==============================] - 0s 14ms/step - loss: 3.8394 - mae: 3.8394\n",
            "Epoch 60/100\n",
            "1/1 [==============================] - 0s 12ms/step - loss: 3.7700 - mae: 3.7700\n",
            "Epoch 61/100\n",
            "1/1 [==============================] - 0s 12ms/step - loss: 3.8402 - mae: 3.8402\n",
            "Epoch 62/100\n",
            "1/1 [==============================] - 0s 13ms/step - loss: 3.7782 - mae: 3.7782\n",
            "Epoch 63/100\n",
            "1/1 [==============================] - 0s 14ms/step - loss: 3.8122 - mae: 3.8122\n",
            "Epoch 64/100\n",
            "1/1 [==============================] - 0s 14ms/step - loss: 3.7865 - mae: 3.7865\n",
            "Epoch 65/100\n",
            "1/1 [==============================] - 0s 13ms/step - loss: 3.7841 - mae: 3.7841\n",
            "Epoch 66/100\n",
            "1/1 [==============================] - 0s 15ms/step - loss: 3.7953 - mae: 3.7953\n",
            "Epoch 67/100\n",
            "1/1 [==============================] - 0s 19ms/step - loss: 3.7630 - mae: 3.7630\n",
            "Epoch 68/100\n",
            "1/1 [==============================] - 0s 15ms/step - loss: 3.8114 - mae: 3.8114\n",
            "Epoch 69/100\n",
            "1/1 [==============================] - 0s 14ms/step - loss: 3.7423 - mae: 3.7423\n",
            "Epoch 70/100\n",
            "1/1 [==============================] - 0s 12ms/step - loss: 3.8112 - mae: 3.8112\n",
            "Epoch 71/100\n",
            "1/1 [==============================] - 0s 12ms/step - loss: 3.7506 - mae: 3.7506\n",
            "Epoch 72/100\n",
            "1/1 [==============================] - 0s 11ms/step - loss: 3.7829 - mae: 3.7829\n",
            "Epoch 73/100\n",
            "1/1 [==============================] - 0s 12ms/step - loss: 3.7592 - mae: 3.7592\n",
            "Epoch 74/100\n",
            "1/1 [==============================] - 0s 12ms/step - loss: 3.7544 - mae: 3.7544\n",
            "Epoch 75/100\n",
            "1/1 [==============================] - 0s 14ms/step - loss: 3.7732 - mae: 3.7732\n",
            "Epoch 76/100\n",
            "1/1 [==============================] - 0s 12ms/step - loss: 3.7330 - mae: 3.7330\n",
            "Epoch 77/100\n",
            "1/1 [==============================] - 0s 12ms/step - loss: 3.7845 - mae: 3.7845\n",
            "Epoch 78/100\n",
            "1/1 [==============================] - 0s 11ms/step - loss: 3.7156 - mae: 3.7156\n",
            "Epoch 79/100\n",
            "1/1 [==============================] - 0s 12ms/step - loss: 3.7808 - mae: 3.7808\n",
            "Epoch 80/100\n",
            "1/1 [==============================] - 0s 12ms/step - loss: 3.7241 - mae: 3.7241\n",
            "Epoch 81/100\n",
            "1/1 [==============================] - 0s 13ms/step - loss: 3.7522 - mae: 3.7522\n",
            "Epoch 82/100\n",
            "1/1 [==============================] - 0s 12ms/step - loss: 3.7329 - mae: 3.7329\n",
            "Epoch 83/100\n",
            "1/1 [==============================] - 0s 12ms/step - loss: 3.7264 - mae: 3.7264\n",
            "Epoch 84/100\n",
            "1/1 [==============================] - 0s 11ms/step - loss: 3.7496 - mae: 3.7496\n",
            "Epoch 85/100\n",
            "1/1 [==============================] - 0s 12ms/step - loss: 3.7016 - mae: 3.7016\n",
            "Epoch 86/100\n",
            "1/1 [==============================] - 0s 12ms/step - loss: 3.7585 - mae: 3.7585\n",
            "Epoch 87/100\n",
            "1/1 [==============================] - 0s 12ms/step - loss: 3.6898 - mae: 3.6898\n",
            "Epoch 88/100\n",
            "1/1 [==============================] - 0s 12ms/step - loss: 3.7491 - mae: 3.7491\n",
            "Epoch 89/100\n",
            "1/1 [==============================] - 0s 11ms/step - loss: 3.6986 - mae: 3.6986\n",
            "Epoch 90/100\n",
            "1/1 [==============================] - 0s 12ms/step - loss: 3.7202 - mae: 3.7202\n",
            "Epoch 91/100\n",
            "1/1 [==============================] - 0s 12ms/step - loss: 3.7077 - mae: 3.7077\n",
            "Epoch 92/100\n",
            "1/1 [==============================] - 0s 17ms/step - loss: 3.6983 - mae: 3.6983\n",
            "Epoch 93/100\n",
            "1/1 [==============================] - 0s 16ms/step - loss: 3.7244 - mae: 3.7244\n",
            "Epoch 94/100\n",
            "1/1 [==============================] - 0s 10ms/step - loss: 3.6689 - mae: 3.6689\n",
            "Epoch 95/100\n",
            "1/1 [==============================] - 0s 11ms/step - loss: 3.7335 - mae: 3.7335\n",
            "Epoch 96/100\n",
            "1/1 [==============================] - 0s 13ms/step - loss: 3.6650 - mae: 3.6650\n",
            "Epoch 97/100\n",
            "1/1 [==============================] - 0s 11ms/step - loss: 3.7161 - mae: 3.7161\n",
            "Epoch 98/100\n",
            "1/1 [==============================] - 0s 20ms/step - loss: 3.6740 - mae: 3.6740\n",
            "Epoch 99/100\n",
            "1/1 [==============================] - 0s 15ms/step - loss: 3.6868 - mae: 3.6868\n",
            "Epoch 100/100\n",
            "1/1 [==============================] - 0s 18ms/step - loss: 3.6880 - mae: 3.6880\n"
          ]
        },
        {
          "output_type": "execute_result",
          "data": {
            "text/plain": [
              "<keras.callbacks.History at 0x79b441e6dde0>"
            ]
          },
          "metadata": {},
          "execution_count": 38
        }
      ]
    },
    {
      "cell_type": "code",
      "source": [
        "# Check by predicting a value\n",
        "model.predict([17.])"
      ],
      "metadata": {
        "colab": {
          "base_uri": "https://localhost:8080/"
        },
        "id": "PP8krka8O9lX",
        "outputId": "a6cb15a0-c2d3-4c6b-8bf0-6d0dd4c02573"
      },
      "execution_count": 39,
      "outputs": [
        {
          "output_type": "stream",
          "name": "stdout",
          "text": [
            "1/1 [==============================] - 0s 130ms/step\n"
          ]
        },
        {
          "output_type": "execute_result",
          "data": {
            "text/plain": [
              "array([[31.621302]], dtype=float32)"
            ]
          },
          "metadata": {},
          "execution_count": 39
        }
      ]
    },
    {
      "cell_type": "markdown",
      "source": [
        "Summarizing, the common ways to **improve** a deep model:\n",
        "\n",
        "* **Adding layers**\n",
        "* **Increase the number of hidden units**\n",
        "* **Change the activation functions**\n",
        "* **Change the optimization function**\n",
        "* **Change the learning rate**\n",
        "* **Fitting on more data**\n",
        "* **Fitting for longer**"
      ],
      "metadata": {
        "id": "xDQ_PbI4RHYx"
      }
    },
    {
      "cell_type": "code",
      "source": [],
      "metadata": {
        "id": "6O6FwGZUPnuX"
      },
      "execution_count": null,
      "outputs": []
    }
  ]
}